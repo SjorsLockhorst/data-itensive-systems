{
 "cells": [
  {
   "cell_type": "code",
   "execution_count": 18,
   "id": "58b1e208-0028-4827-8c5a-f7483a6a731f",
   "metadata": {},
   "outputs": [],
   "source": [
    "from pyspark.sql import SparkSession\n",
    "from pyspark.sql.types import StructType, StructField, StringType, ArrayType, MapType, IntegerType\n",
    "\n",
    "\n",
    "from vectorize import vectorize_routes\n",
    "\n",
    "spark = SparkSession.builder.appName(\"Pay Routes\").getOrCreate()\n",
    "\n",
    "\n",
    "schema = StructType([\n",
    "    StructField(\"route\", ArrayType(\n",
    "        StructType([\n",
    "            StructField(\"from_city\", StringType(), nullable=True),\n",
    "            StructField(\"to_city\", StringType(), nullable=True),\n",
    "            StructField(\"merch\", MapType(StringType(), IntegerType()), nullable=True),\n",
    "        ])\n",
    "    ), nullable=True),\n",
    "    StructField(\"uuid\", StringType(), nullable=True),\n",
    "])\n",
    "\n",
    "def load_json_to_spark(file_name):\n",
    "    df = spark.read.json(file_name, schema=schema)\n",
    "    return df\n",
    "\n",
    "\n",
    "planned_routes_df = load_json_to_spark(\"planned_routes.json\")\n",
    "actual_routes_df = load_json_to_spark(\"actual_routes.json\")"
   ]
  },
  {
   "cell_type": "code",
   "execution_count": 19,
   "id": "ef70f223-0e10-4493-958f-9f51792ab829",
   "metadata": {},
   "outputs": [
    {
     "name": "stdout",
     "output_type": "stream",
     "text": [
      "+--------------------+--------------------+\n",
      "|               route|                uuid|\n",
      "+--------------------+--------------------+\n",
      "|[{Utrecht, The Ha...|ca5b2fa758194c7da...|\n",
      "|[{Eindhoven, Delf...|0de74fb5d653403f8...|\n",
      "|[{Eindhoven, Utre...|c5baf719b94a48238...|\n",
      "|[{Amsterdam, Delf...|4557a1ab54d34989b...|\n",
      "|[{Delft, Tilburg,...|f1e90ad34080440d9...|\n",
      "|[{Delft, The Hagu...|e461200c6bbf4c02b...|\n",
      "|[{Tilburg, Delft,...|b6473c53e8484c69a...|\n",
      "|[{Eindhoven, Rott...|20c8eb90c26d40b7b...|\n",
      "|[{Utrecht, The Ha...|83b09d82a045448ab...|\n",
      "|[{Utrecht, Eindho...|a7f479c9817941cfb...|\n",
      "|[{Rotterdam, Amst...|e7f8b68cf37345c89...|\n",
      "|[{The Hague, Eind...|dd9b1a98315141fa8...|\n",
      "|[{Groningen, The ...|09bb3c81d23d4a4f9...|\n",
      "|[{Tilburg, The Ha...|04ce53e1189b47b5a...|\n",
      "|[{Tilburg, The Ha...|8e7f9aac22a44fe38...|\n",
      "|[{Eindhoven, Gron...|486d433fdb844987a...|\n",
      "|[{Groningen, Tilb...|137c932bff4e469a8...|\n",
      "|[{Delft, Utrecht,...|cefd484a2e1045c79...|\n",
      "|[{Eindhoven, Utre...|59c336008e9c4ef1a...|\n",
      "|[{Groningen, Tilb...|757257941f5046c6b...|\n",
      "+--------------------+--------------------+\n",
      "only showing top 20 rows\n",
      "\n",
      "+--------------------+--------------------+\n",
      "|               route|                uuid|\n",
      "+--------------------+--------------------+\n",
      "|[{Tilburg, The Ha...|f8098cace1544e859...|\n",
      "|[{Delft, Eindhove...|fba42fa9daaa4d90a...|\n",
      "|[{Rotterdam, Gron...|eb8e84bb022b4fbb9...|\n",
      "|[{Amsterdam, Tilb...|bf2f6e2873f34cc88...|\n",
      "|[{Amsterdam, Rott...|01d0affd47944cf59...|\n",
      "|[{Tilburg, Utrech...|2f2ab837e1c944979...|\n",
      "|[{Groningen, Delf...|3a8cc5e342b44abea...|\n",
      "|[{Rotterdam, Amst...|62356f8acd8244a58...|\n",
      "|[{Amsterdam, Delf...|fb1afd45cd8d4201b...|\n",
      "|[{Eindhoven, Rott...|7eac5e6300684cdaa...|\n",
      "|[{The Hague, Tilb...|dc68b04cb9714e829...|\n",
      "|[{Amsterdam, Rott...|879dcb37f7be4cf6a...|\n",
      "|[{Amsterdam, Rott...|05989e2c04824577b...|\n",
      "|[{Utrecht, The Ha...|924f8c8b63174ebda...|\n",
      "|[{Rotterdam, The ...|eb96e56dca9f46ae9...|\n",
      "|[{Eindhoven, Delf...|1f52c4ff95ed4b13b...|\n",
      "|[{Eindhoven, The ...|617e372cc61f43d09...|\n",
      "|[{Eindhoven, Gron...|952ff5026fd649c39...|\n",
      "|[{Eindhoven, The ...|d2ace688823248088...|\n",
      "|[{The Hague, Eind...|18761f48313c4857b...|\n",
      "+--------------------+--------------------+\n",
      "only showing top 20 rows\n",
      "\n"
     ]
    }
   ],
   "source": [
    "planned_routes_df.show()\n",
    "actual_routes_df.show()"
   ]
  },
  {
   "cell_type": "code",
   "execution_count": 20,
   "id": "4c57e080-737c-45cb-9c62-bfd42ac28877",
   "metadata": {},
   "outputs": [
    {
     "name": "stdout",
     "output_type": "stream",
     "text": [
      "root\n",
      " |-- route: array (nullable = true)\n",
      " |    |-- element: struct (containsNull = true)\n",
      " |    |    |-- from_city: string (nullable = true)\n",
      " |    |    |-- to_city: string (nullable = true)\n",
      " |    |    |-- merch: map (nullable = true)\n",
      " |    |    |    |-- key: string\n",
      " |    |    |    |-- value: integer (valueContainsNull = true)\n",
      " |-- uuid: string (nullable = true)\n",
      "\n"
     ]
    }
   ],
   "source": [
    "planned_routes_df.printSchema()"
   ]
  },
  {
   "cell_type": "code",
   "execution_count": 40,
   "id": "9d9e131c-8ac8-4813-9e84-bcfd42cb5f40",
   "metadata": {},
   "outputs": [
    {
     "name": "stdout",
     "output_type": "stream",
     "text": [
      "{('Amsterdam', 'Rotterdam', 'Apple'): 0, ('Amsterdam', 'Rotterdam', 'Pear'): 1, ('Amsterdam', 'Rotterdam', 'Banana'): 2, ('Amsterdam', 'Rotterdam', 'Kiwi'): 3, ('Amsterdam', 'Rotterdam', 'Orange'): 4, ('Amsterdam', 'Rotterdam', 'Mandarin'): 5, ('Amsterdam', 'Rotterdam', 'Strawberry'): 6, ('Amsterdam', 'Rotterdam', 'Mango'): 7, ('Amsterdam', 'The Hague', 'Apple'): 8, ('Amsterdam', 'The Hague', 'Pear'): 9, ('Amsterdam', 'The Hague', 'Banana'): 10, ('Amsterdam', 'The Hague', 'Kiwi'): 11, ('Amsterdam', 'The Hague', 'Orange'): 12, ('Amsterdam', 'The Hague', 'Mandarin'): 13, ('Amsterdam', 'The Hague', 'Strawberry'): 14, ('Amsterdam', 'The Hague', 'Mango'): 15, ('Amsterdam', 'Utrecht', 'Apple'): 16, ('Amsterdam', 'Utrecht', 'Pear'): 17, ('Amsterdam', 'Utrecht', 'Banana'): 18, ('Amsterdam', 'Utrecht', 'Kiwi'): 19, ('Amsterdam', 'Utrecht', 'Orange'): 20, ('Amsterdam', 'Utrecht', 'Mandarin'): 21, ('Amsterdam', 'Utrecht', 'Strawberry'): 22, ('Amsterdam', 'Utrecht', 'Mango'): 23, ('Amsterdam', 'Delft', 'Apple'): 24, ('Amsterdam', 'Delft', 'Pear'): 25, ('Amsterdam', 'Delft', 'Banana'): 26, ('Amsterdam', 'Delft', 'Kiwi'): 27, ('Amsterdam', 'Delft', 'Orange'): 28, ('Amsterdam', 'Delft', 'Mandarin'): 29, ('Amsterdam', 'Delft', 'Strawberry'): 30, ('Amsterdam', 'Delft', 'Mango'): 31, ('Amsterdam', 'Eindhoven', 'Apple'): 32, ('Amsterdam', 'Eindhoven', 'Pear'): 33, ('Amsterdam', 'Eindhoven', 'Banana'): 34, ('Amsterdam', 'Eindhoven', 'Kiwi'): 35, ('Amsterdam', 'Eindhoven', 'Orange'): 36, ('Amsterdam', 'Eindhoven', 'Mandarin'): 37, ('Amsterdam', 'Eindhoven', 'Strawberry'): 38, ('Amsterdam', 'Eindhoven', 'Mango'): 39, ('Amsterdam', 'Groningen', 'Apple'): 40, ('Amsterdam', 'Groningen', 'Pear'): 41, ('Amsterdam', 'Groningen', 'Banana'): 42, ('Amsterdam', 'Groningen', 'Kiwi'): 43, ('Amsterdam', 'Groningen', 'Orange'): 44, ('Amsterdam', 'Groningen', 'Mandarin'): 45, ('Amsterdam', 'Groningen', 'Strawberry'): 46, ('Amsterdam', 'Groningen', 'Mango'): 47, ('Amsterdam', 'Tilburg', 'Apple'): 48, ('Amsterdam', 'Tilburg', 'Pear'): 49, ('Amsterdam', 'Tilburg', 'Banana'): 50, ('Amsterdam', 'Tilburg', 'Kiwi'): 51, ('Amsterdam', 'Tilburg', 'Orange'): 52, ('Amsterdam', 'Tilburg', 'Mandarin'): 53, ('Amsterdam', 'Tilburg', 'Strawberry'): 54, ('Amsterdam', 'Tilburg', 'Mango'): 55, ('Rotterdam', 'Amsterdam', 'Apple'): 56, ('Rotterdam', 'Amsterdam', 'Pear'): 57, ('Rotterdam', 'Amsterdam', 'Banana'): 58, ('Rotterdam', 'Amsterdam', 'Kiwi'): 59, ('Rotterdam', 'Amsterdam', 'Orange'): 60, ('Rotterdam', 'Amsterdam', 'Mandarin'): 61, ('Rotterdam', 'Amsterdam', 'Strawberry'): 62, ('Rotterdam', 'Amsterdam', 'Mango'): 63, ('Rotterdam', 'The Hague', 'Apple'): 64, ('Rotterdam', 'The Hague', 'Pear'): 65, ('Rotterdam', 'The Hague', 'Banana'): 66, ('Rotterdam', 'The Hague', 'Kiwi'): 67, ('Rotterdam', 'The Hague', 'Orange'): 68, ('Rotterdam', 'The Hague', 'Mandarin'): 69, ('Rotterdam', 'The Hague', 'Strawberry'): 70, ('Rotterdam', 'The Hague', 'Mango'): 71, ('Rotterdam', 'Utrecht', 'Apple'): 72, ('Rotterdam', 'Utrecht', 'Pear'): 73, ('Rotterdam', 'Utrecht', 'Banana'): 74, ('Rotterdam', 'Utrecht', 'Kiwi'): 75, ('Rotterdam', 'Utrecht', 'Orange'): 76, ('Rotterdam', 'Utrecht', 'Mandarin'): 77, ('Rotterdam', 'Utrecht', 'Strawberry'): 78, ('Rotterdam', 'Utrecht', 'Mango'): 79, ('Rotterdam', 'Delft', 'Apple'): 80, ('Rotterdam', 'Delft', 'Pear'): 81, ('Rotterdam', 'Delft', 'Banana'): 82, ('Rotterdam', 'Delft', 'Kiwi'): 83, ('Rotterdam', 'Delft', 'Orange'): 84, ('Rotterdam', 'Delft', 'Mandarin'): 85, ('Rotterdam', 'Delft', 'Strawberry'): 86, ('Rotterdam', 'Delft', 'Mango'): 87, ('Rotterdam', 'Eindhoven', 'Apple'): 88, ('Rotterdam', 'Eindhoven', 'Pear'): 89, ('Rotterdam', 'Eindhoven', 'Banana'): 90, ('Rotterdam', 'Eindhoven', 'Kiwi'): 91, ('Rotterdam', 'Eindhoven', 'Orange'): 92, ('Rotterdam', 'Eindhoven', 'Mandarin'): 93, ('Rotterdam', 'Eindhoven', 'Strawberry'): 94, ('Rotterdam', 'Eindhoven', 'Mango'): 95, ('Rotterdam', 'Groningen', 'Apple'): 96, ('Rotterdam', 'Groningen', 'Pear'): 97, ('Rotterdam', 'Groningen', 'Banana'): 98, ('Rotterdam', 'Groningen', 'Kiwi'): 99, ('Rotterdam', 'Groningen', 'Orange'): 100, ('Rotterdam', 'Groningen', 'Mandarin'): 101, ('Rotterdam', 'Groningen', 'Strawberry'): 102, ('Rotterdam', 'Groningen', 'Mango'): 103, ('Rotterdam', 'Tilburg', 'Apple'): 104, ('Rotterdam', 'Tilburg', 'Pear'): 105, ('Rotterdam', 'Tilburg', 'Banana'): 106, ('Rotterdam', 'Tilburg', 'Kiwi'): 107, ('Rotterdam', 'Tilburg', 'Orange'): 108, ('Rotterdam', 'Tilburg', 'Mandarin'): 109, ('Rotterdam', 'Tilburg', 'Strawberry'): 110, ('Rotterdam', 'Tilburg', 'Mango'): 111, ('The Hague', 'Amsterdam', 'Apple'): 112, ('The Hague', 'Amsterdam', 'Pear'): 113, ('The Hague', 'Amsterdam', 'Banana'): 114, ('The Hague', 'Amsterdam', 'Kiwi'): 115, ('The Hague', 'Amsterdam', 'Orange'): 116, ('The Hague', 'Amsterdam', 'Mandarin'): 117, ('The Hague', 'Amsterdam', 'Strawberry'): 118, ('The Hague', 'Amsterdam', 'Mango'): 119, ('The Hague', 'Rotterdam', 'Apple'): 120, ('The Hague', 'Rotterdam', 'Pear'): 121, ('The Hague', 'Rotterdam', 'Banana'): 122, ('The Hague', 'Rotterdam', 'Kiwi'): 123, ('The Hague', 'Rotterdam', 'Orange'): 124, ('The Hague', 'Rotterdam', 'Mandarin'): 125, ('The Hague', 'Rotterdam', 'Strawberry'): 126, ('The Hague', 'Rotterdam', 'Mango'): 127, ('The Hague', 'Utrecht', 'Apple'): 128, ('The Hague', 'Utrecht', 'Pear'): 129, ('The Hague', 'Utrecht', 'Banana'): 130, ('The Hague', 'Utrecht', 'Kiwi'): 131, ('The Hague', 'Utrecht', 'Orange'): 132, ('The Hague', 'Utrecht', 'Mandarin'): 133, ('The Hague', 'Utrecht', 'Strawberry'): 134, ('The Hague', 'Utrecht', 'Mango'): 135, ('The Hague', 'Delft', 'Apple'): 136, ('The Hague', 'Delft', 'Pear'): 137, ('The Hague', 'Delft', 'Banana'): 138, ('The Hague', 'Delft', 'Kiwi'): 139, ('The Hague', 'Delft', 'Orange'): 140, ('The Hague', 'Delft', 'Mandarin'): 141, ('The Hague', 'Delft', 'Strawberry'): 142, ('The Hague', 'Delft', 'Mango'): 143, ('The Hague', 'Eindhoven', 'Apple'): 144, ('The Hague', 'Eindhoven', 'Pear'): 145, ('The Hague', 'Eindhoven', 'Banana'): 146, ('The Hague', 'Eindhoven', 'Kiwi'): 147, ('The Hague', 'Eindhoven', 'Orange'): 148, ('The Hague', 'Eindhoven', 'Mandarin'): 149, ('The Hague', 'Eindhoven', 'Strawberry'): 150, ('The Hague', 'Eindhoven', 'Mango'): 151, ('The Hague', 'Groningen', 'Apple'): 152, ('The Hague', 'Groningen', 'Pear'): 153, ('The Hague', 'Groningen', 'Banana'): 154, ('The Hague', 'Groningen', 'Kiwi'): 155, ('The Hague', 'Groningen', 'Orange'): 156, ('The Hague', 'Groningen', 'Mandarin'): 157, ('The Hague', 'Groningen', 'Strawberry'): 158, ('The Hague', 'Groningen', 'Mango'): 159, ('The Hague', 'Tilburg', 'Apple'): 160, ('The Hague', 'Tilburg', 'Pear'): 161, ('The Hague', 'Tilburg', 'Banana'): 162, ('The Hague', 'Tilburg', 'Kiwi'): 163, ('The Hague', 'Tilburg', 'Orange'): 164, ('The Hague', 'Tilburg', 'Mandarin'): 165, ('The Hague', 'Tilburg', 'Strawberry'): 166, ('The Hague', 'Tilburg', 'Mango'): 167, ('Utrecht', 'Amsterdam', 'Apple'): 168, ('Utrecht', 'Amsterdam', 'Pear'): 169, ('Utrecht', 'Amsterdam', 'Banana'): 170, ('Utrecht', 'Amsterdam', 'Kiwi'): 171, ('Utrecht', 'Amsterdam', 'Orange'): 172, ('Utrecht', 'Amsterdam', 'Mandarin'): 173, ('Utrecht', 'Amsterdam', 'Strawberry'): 174, ('Utrecht', 'Amsterdam', 'Mango'): 175, ('Utrecht', 'Rotterdam', 'Apple'): 176, ('Utrecht', 'Rotterdam', 'Pear'): 177, ('Utrecht', 'Rotterdam', 'Banana'): 178, ('Utrecht', 'Rotterdam', 'Kiwi'): 179, ('Utrecht', 'Rotterdam', 'Orange'): 180, ('Utrecht', 'Rotterdam', 'Mandarin'): 181, ('Utrecht', 'Rotterdam', 'Strawberry'): 182, ('Utrecht', 'Rotterdam', 'Mango'): 183, ('Utrecht', 'The Hague', 'Apple'): 184, ('Utrecht', 'The Hague', 'Pear'): 185, ('Utrecht', 'The Hague', 'Banana'): 186, ('Utrecht', 'The Hague', 'Kiwi'): 187, ('Utrecht', 'The Hague', 'Orange'): 188, ('Utrecht', 'The Hague', 'Mandarin'): 189, ('Utrecht', 'The Hague', 'Strawberry'): 190, ('Utrecht', 'The Hague', 'Mango'): 191, ('Utrecht', 'Delft', 'Apple'): 192, ('Utrecht', 'Delft', 'Pear'): 193, ('Utrecht', 'Delft', 'Banana'): 194, ('Utrecht', 'Delft', 'Kiwi'): 195, ('Utrecht', 'Delft', 'Orange'): 196, ('Utrecht', 'Delft', 'Mandarin'): 197, ('Utrecht', 'Delft', 'Strawberry'): 198, ('Utrecht', 'Delft', 'Mango'): 199, ('Utrecht', 'Eindhoven', 'Apple'): 200, ('Utrecht', 'Eindhoven', 'Pear'): 201, ('Utrecht', 'Eindhoven', 'Banana'): 202, ('Utrecht', 'Eindhoven', 'Kiwi'): 203, ('Utrecht', 'Eindhoven', 'Orange'): 204, ('Utrecht', 'Eindhoven', 'Mandarin'): 205, ('Utrecht', 'Eindhoven', 'Strawberry'): 206, ('Utrecht', 'Eindhoven', 'Mango'): 207, ('Utrecht', 'Groningen', 'Apple'): 208, ('Utrecht', 'Groningen', 'Pear'): 209, ('Utrecht', 'Groningen', 'Banana'): 210, ('Utrecht', 'Groningen', 'Kiwi'): 211, ('Utrecht', 'Groningen', 'Orange'): 212, ('Utrecht', 'Groningen', 'Mandarin'): 213, ('Utrecht', 'Groningen', 'Strawberry'): 214, ('Utrecht', 'Groningen', 'Mango'): 215, ('Utrecht', 'Tilburg', 'Apple'): 216, ('Utrecht', 'Tilburg', 'Pear'): 217, ('Utrecht', 'Tilburg', 'Banana'): 218, ('Utrecht', 'Tilburg', 'Kiwi'): 219, ('Utrecht', 'Tilburg', 'Orange'): 220, ('Utrecht', 'Tilburg', 'Mandarin'): 221, ('Utrecht', 'Tilburg', 'Strawberry'): 222, ('Utrecht', 'Tilburg', 'Mango'): 223, ('Delft', 'Amsterdam', 'Apple'): 224, ('Delft', 'Amsterdam', 'Pear'): 225, ('Delft', 'Amsterdam', 'Banana'): 226, ('Delft', 'Amsterdam', 'Kiwi'): 227, ('Delft', 'Amsterdam', 'Orange'): 228, ('Delft', 'Amsterdam', 'Mandarin'): 229, ('Delft', 'Amsterdam', 'Strawberry'): 230, ('Delft', 'Amsterdam', 'Mango'): 231, ('Delft', 'Rotterdam', 'Apple'): 232, ('Delft', 'Rotterdam', 'Pear'): 233, ('Delft', 'Rotterdam', 'Banana'): 234, ('Delft', 'Rotterdam', 'Kiwi'): 235, ('Delft', 'Rotterdam', 'Orange'): 236, ('Delft', 'Rotterdam', 'Mandarin'): 237, ('Delft', 'Rotterdam', 'Strawberry'): 238, ('Delft', 'Rotterdam', 'Mango'): 239, ('Delft', 'The Hague', 'Apple'): 240, ('Delft', 'The Hague', 'Pear'): 241, ('Delft', 'The Hague', 'Banana'): 242, ('Delft', 'The Hague', 'Kiwi'): 243, ('Delft', 'The Hague', 'Orange'): 244, ('Delft', 'The Hague', 'Mandarin'): 245, ('Delft', 'The Hague', 'Strawberry'): 246, ('Delft', 'The Hague', 'Mango'): 247, ('Delft', 'Utrecht', 'Apple'): 248, ('Delft', 'Utrecht', 'Pear'): 249, ('Delft', 'Utrecht', 'Banana'): 250, ('Delft', 'Utrecht', 'Kiwi'): 251, ('Delft', 'Utrecht', 'Orange'): 252, ('Delft', 'Utrecht', 'Mandarin'): 253, ('Delft', 'Utrecht', 'Strawberry'): 254, ('Delft', 'Utrecht', 'Mango'): 255, ('Delft', 'Eindhoven', 'Apple'): 256, ('Delft', 'Eindhoven', 'Pear'): 257, ('Delft', 'Eindhoven', 'Banana'): 258, ('Delft', 'Eindhoven', 'Kiwi'): 259, ('Delft', 'Eindhoven', 'Orange'): 260, ('Delft', 'Eindhoven', 'Mandarin'): 261, ('Delft', 'Eindhoven', 'Strawberry'): 262, ('Delft', 'Eindhoven', 'Mango'): 263, ('Delft', 'Groningen', 'Apple'): 264, ('Delft', 'Groningen', 'Pear'): 265, ('Delft', 'Groningen', 'Banana'): 266, ('Delft', 'Groningen', 'Kiwi'): 267, ('Delft', 'Groningen', 'Orange'): 268, ('Delft', 'Groningen', 'Mandarin'): 269, ('Delft', 'Groningen', 'Strawberry'): 270, ('Delft', 'Groningen', 'Mango'): 271, ('Delft', 'Tilburg', 'Apple'): 272, ('Delft', 'Tilburg', 'Pear'): 273, ('Delft', 'Tilburg', 'Banana'): 274, ('Delft', 'Tilburg', 'Kiwi'): 275, ('Delft', 'Tilburg', 'Orange'): 276, ('Delft', 'Tilburg', 'Mandarin'): 277, ('Delft', 'Tilburg', 'Strawberry'): 278, ('Delft', 'Tilburg', 'Mango'): 279, ('Eindhoven', 'Amsterdam', 'Apple'): 280, ('Eindhoven', 'Amsterdam', 'Pear'): 281, ('Eindhoven', 'Amsterdam', 'Banana'): 282, ('Eindhoven', 'Amsterdam', 'Kiwi'): 283, ('Eindhoven', 'Amsterdam', 'Orange'): 284, ('Eindhoven', 'Amsterdam', 'Mandarin'): 285, ('Eindhoven', 'Amsterdam', 'Strawberry'): 286, ('Eindhoven', 'Amsterdam', 'Mango'): 287, ('Eindhoven', 'Rotterdam', 'Apple'): 288, ('Eindhoven', 'Rotterdam', 'Pear'): 289, ('Eindhoven', 'Rotterdam', 'Banana'): 290, ('Eindhoven', 'Rotterdam', 'Kiwi'): 291, ('Eindhoven', 'Rotterdam', 'Orange'): 292, ('Eindhoven', 'Rotterdam', 'Mandarin'): 293, ('Eindhoven', 'Rotterdam', 'Strawberry'): 294, ('Eindhoven', 'Rotterdam', 'Mango'): 295, ('Eindhoven', 'The Hague', 'Apple'): 296, ('Eindhoven', 'The Hague', 'Pear'): 297, ('Eindhoven', 'The Hague', 'Banana'): 298, ('Eindhoven', 'The Hague', 'Kiwi'): 299, ('Eindhoven', 'The Hague', 'Orange'): 300, ('Eindhoven', 'The Hague', 'Mandarin'): 301, ('Eindhoven', 'The Hague', 'Strawberry'): 302, ('Eindhoven', 'The Hague', 'Mango'): 303, ('Eindhoven', 'Utrecht', 'Apple'): 304, ('Eindhoven', 'Utrecht', 'Pear'): 305, ('Eindhoven', 'Utrecht', 'Banana'): 306, ('Eindhoven', 'Utrecht', 'Kiwi'): 307, ('Eindhoven', 'Utrecht', 'Orange'): 308, ('Eindhoven', 'Utrecht', 'Mandarin'): 309, ('Eindhoven', 'Utrecht', 'Strawberry'): 310, ('Eindhoven', 'Utrecht', 'Mango'): 311, ('Eindhoven', 'Delft', 'Apple'): 312, ('Eindhoven', 'Delft', 'Pear'): 313, ('Eindhoven', 'Delft', 'Banana'): 314, ('Eindhoven', 'Delft', 'Kiwi'): 315, ('Eindhoven', 'Delft', 'Orange'): 316, ('Eindhoven', 'Delft', 'Mandarin'): 317, ('Eindhoven', 'Delft', 'Strawberry'): 318, ('Eindhoven', 'Delft', 'Mango'): 319, ('Eindhoven', 'Groningen', 'Apple'): 320, ('Eindhoven', 'Groningen', 'Pear'): 321, ('Eindhoven', 'Groningen', 'Banana'): 322, ('Eindhoven', 'Groningen', 'Kiwi'): 323, ('Eindhoven', 'Groningen', 'Orange'): 324, ('Eindhoven', 'Groningen', 'Mandarin'): 325, ('Eindhoven', 'Groningen', 'Strawberry'): 326, ('Eindhoven', 'Groningen', 'Mango'): 327, ('Eindhoven', 'Tilburg', 'Apple'): 328, ('Eindhoven', 'Tilburg', 'Pear'): 329, ('Eindhoven', 'Tilburg', 'Banana'): 330, ('Eindhoven', 'Tilburg', 'Kiwi'): 331, ('Eindhoven', 'Tilburg', 'Orange'): 332, ('Eindhoven', 'Tilburg', 'Mandarin'): 333, ('Eindhoven', 'Tilburg', 'Strawberry'): 334, ('Eindhoven', 'Tilburg', 'Mango'): 335, ('Groningen', 'Amsterdam', 'Apple'): 336, ('Groningen', 'Amsterdam', 'Pear'): 337, ('Groningen', 'Amsterdam', 'Banana'): 338, ('Groningen', 'Amsterdam', 'Kiwi'): 339, ('Groningen', 'Amsterdam', 'Orange'): 340, ('Groningen', 'Amsterdam', 'Mandarin'): 341, ('Groningen', 'Amsterdam', 'Strawberry'): 342, ('Groningen', 'Amsterdam', 'Mango'): 343, ('Groningen', 'Rotterdam', 'Apple'): 344, ('Groningen', 'Rotterdam', 'Pear'): 345, ('Groningen', 'Rotterdam', 'Banana'): 346, ('Groningen', 'Rotterdam', 'Kiwi'): 347, ('Groningen', 'Rotterdam', 'Orange'): 348, ('Groningen', 'Rotterdam', 'Mandarin'): 349, ('Groningen', 'Rotterdam', 'Strawberry'): 350, ('Groningen', 'Rotterdam', 'Mango'): 351, ('Groningen', 'The Hague', 'Apple'): 352, ('Groningen', 'The Hague', 'Pear'): 353, ('Groningen', 'The Hague', 'Banana'): 354, ('Groningen', 'The Hague', 'Kiwi'): 355, ('Groningen', 'The Hague', 'Orange'): 356, ('Groningen', 'The Hague', 'Mandarin'): 357, ('Groningen', 'The Hague', 'Strawberry'): 358, ('Groningen', 'The Hague', 'Mango'): 359, ('Groningen', 'Utrecht', 'Apple'): 360, ('Groningen', 'Utrecht', 'Pear'): 361, ('Groningen', 'Utrecht', 'Banana'): 362, ('Groningen', 'Utrecht', 'Kiwi'): 363, ('Groningen', 'Utrecht', 'Orange'): 364, ('Groningen', 'Utrecht', 'Mandarin'): 365, ('Groningen', 'Utrecht', 'Strawberry'): 366, ('Groningen', 'Utrecht', 'Mango'): 367, ('Groningen', 'Delft', 'Apple'): 368, ('Groningen', 'Delft', 'Pear'): 369, ('Groningen', 'Delft', 'Banana'): 370, ('Groningen', 'Delft', 'Kiwi'): 371, ('Groningen', 'Delft', 'Orange'): 372, ('Groningen', 'Delft', 'Mandarin'): 373, ('Groningen', 'Delft', 'Strawberry'): 374, ('Groningen', 'Delft', 'Mango'): 375, ('Groningen', 'Eindhoven', 'Apple'): 376, ('Groningen', 'Eindhoven', 'Pear'): 377, ('Groningen', 'Eindhoven', 'Banana'): 378, ('Groningen', 'Eindhoven', 'Kiwi'): 379, ('Groningen', 'Eindhoven', 'Orange'): 380, ('Groningen', 'Eindhoven', 'Mandarin'): 381, ('Groningen', 'Eindhoven', 'Strawberry'): 382, ('Groningen', 'Eindhoven', 'Mango'): 383, ('Groningen', 'Tilburg', 'Apple'): 384, ('Groningen', 'Tilburg', 'Pear'): 385, ('Groningen', 'Tilburg', 'Banana'): 386, ('Groningen', 'Tilburg', 'Kiwi'): 387, ('Groningen', 'Tilburg', 'Orange'): 388, ('Groningen', 'Tilburg', 'Mandarin'): 389, ('Groningen', 'Tilburg', 'Strawberry'): 390, ('Groningen', 'Tilburg', 'Mango'): 391, ('Tilburg', 'Amsterdam', 'Apple'): 392, ('Tilburg', 'Amsterdam', 'Pear'): 393, ('Tilburg', 'Amsterdam', 'Banana'): 394, ('Tilburg', 'Amsterdam', 'Kiwi'): 395, ('Tilburg', 'Amsterdam', 'Orange'): 396, ('Tilburg', 'Amsterdam', 'Mandarin'): 397, ('Tilburg', 'Amsterdam', 'Strawberry'): 398, ('Tilburg', 'Amsterdam', 'Mango'): 399, ('Tilburg', 'Rotterdam', 'Apple'): 400, ('Tilburg', 'Rotterdam', 'Pear'): 401, ('Tilburg', 'Rotterdam', 'Banana'): 402, ('Tilburg', 'Rotterdam', 'Kiwi'): 403, ('Tilburg', 'Rotterdam', 'Orange'): 404, ('Tilburg', 'Rotterdam', 'Mandarin'): 405, ('Tilburg', 'Rotterdam', 'Strawberry'): 406, ('Tilburg', 'Rotterdam', 'Mango'): 407, ('Tilburg', 'The Hague', 'Apple'): 408, ('Tilburg', 'The Hague', 'Pear'): 409, ('Tilburg', 'The Hague', 'Banana'): 410, ('Tilburg', 'The Hague', 'Kiwi'): 411, ('Tilburg', 'The Hague', 'Orange'): 412, ('Tilburg', 'The Hague', 'Mandarin'): 413, ('Tilburg', 'The Hague', 'Strawberry'): 414, ('Tilburg', 'The Hague', 'Mango'): 415, ('Tilburg', 'Utrecht', 'Apple'): 416, ('Tilburg', 'Utrecht', 'Pear'): 417, ('Tilburg', 'Utrecht', 'Banana'): 418, ('Tilburg', 'Utrecht', 'Kiwi'): 419, ('Tilburg', 'Utrecht', 'Orange'): 420, ('Tilburg', 'Utrecht', 'Mandarin'): 421, ('Tilburg', 'Utrecht', 'Strawberry'): 422, ('Tilburg', 'Utrecht', 'Mango'): 423, ('Tilburg', 'Delft', 'Apple'): 424, ('Tilburg', 'Delft', 'Pear'): 425, ('Tilburg', 'Delft', 'Banana'): 426, ('Tilburg', 'Delft', 'Kiwi'): 427, ('Tilburg', 'Delft', 'Orange'): 428, ('Tilburg', 'Delft', 'Mandarin'): 429, ('Tilburg', 'Delft', 'Strawberry'): 430, ('Tilburg', 'Delft', 'Mango'): 431, ('Tilburg', 'Eindhoven', 'Apple'): 432, ('Tilburg', 'Eindhoven', 'Pear'): 433, ('Tilburg', 'Eindhoven', 'Banana'): 434, ('Tilburg', 'Eindhoven', 'Kiwi'): 435, ('Tilburg', 'Eindhoven', 'Orange'): 436, ('Tilburg', 'Eindhoven', 'Mandarin'): 437, ('Tilburg', 'Eindhoven', 'Strawberry'): 438, ('Tilburg', 'Eindhoven', 'Mango'): 439, ('Tilburg', 'Groningen', 'Apple'): 440, ('Tilburg', 'Groningen', 'Pear'): 441, ('Tilburg', 'Groningen', 'Banana'): 442, ('Tilburg', 'Groningen', 'Kiwi'): 443, ('Tilburg', 'Groningen', 'Orange'): 444, ('Tilburg', 'Groningen', 'Mandarin'): 445, ('Tilburg', 'Groningen', 'Strawberry'): 446, ('Tilburg', 'Groningen', 'Mango'): 447}\n"
     ]
    }
   ],
   "source": [
    "import yaml\n",
    "from itertools import product, chain\n",
    "from pyspark.sql.functions import create_map, lit, udf\n",
    "from pyspark.sql.types import IntegerType\n",
    "\n",
    "\n",
    "with open('src/data_gen_config.yaml', encoding=\"utf-8\") as f:\n",
    "    config = yaml.safe_load(f)\n",
    "\n",
    "merch_items = config[\"merch_items\"]\n",
    "cities = config[\"cities\"]\n",
    "merch_item_min = config[\"merch_sampler_map\"][\"low\"]\n",
    "merch_item_max = config[\"merch_sampler_map\"][\"high\"]\n",
    "\n",
    "combinations = list(product(cities, cities, merch_items))\n",
    "# Make sure from_city and to_city are not the same\n",
    "combinations = [\n",
    "    (from_city, to_city, merch)\n",
    "    for from_city, to_city, merch in combinations\n",
    "    if from_city != to_city\n",
    "]\n",
    "vector_size = len(combinations)\n",
    "# Generate a hashmap from combination to index\n",
    "vector_map = {combination: index for index, combination in enumerate(combinations)}\n",
    "print(vector_map)\n",
    "\n",
    "@udf(IntegerType())\n",
    "def get_vector_index(from_city, to_city, merch_name):\n",
    "    return vector_map.get((from_city, to_city, merch_name))"
   ]
  },
  {
   "cell_type": "code",
   "execution_count": null,
   "id": "5a25edba-9fe3-4154-bd2b-b5a52f5e0385",
   "metadata": {},
   "outputs": [],
   "source": [
    "from pyspark.ml.linalg import Vectors, VectorUDT\n",
    "\n",
    "@udf(VectorUDT())\n",
    "def vectorize(vector_elements):\n",
    "    "
   ]
  },
  {
   "cell_type": "code",
   "execution_count": 48,
   "id": "aee20d59-f223-4f33-81e8-07c3288c441e",
   "metadata": {},
   "outputs": [
    {
     "name": "stdout",
     "output_type": "stream",
     "text": [
      "+--------------------+--------------------+--------------------+---------+---------+--------------------+----------+------------+-----------------+------------+\n",
      "|               route|                uuid|    individual_route|from_city|  to_city|               merch|merch_name|merch_weight|normalized_weight|vector_index|\n",
      "+--------------------+--------------------+--------------------+---------+---------+--------------------+----------+------------+-----------------+------------+\n",
      "|[{Utrecht, The Ha...|ca5b2fa758194c7da...|{Utrecht, The Hag...|  Utrecht|The Hague|{Banana -> 61, St...|    Banana|          61|             0.22|         186|\n",
      "|[{Utrecht, The Ha...|ca5b2fa758194c7da...|{Utrecht, The Hag...|  Utrecht|The Hague|{Banana -> 61, St...|Strawberry|          95|              0.9|         190|\n",
      "|[{Utrecht, The Ha...|ca5b2fa758194c7da...|{Utrecht, The Hag...|  Utrecht|The Hague|{Banana -> 61, St...|     Mango|          89|             0.78|         191|\n",
      "|[{Utrecht, The Ha...|ca5b2fa758194c7da...|{The Hague, Delft...|The Hague|    Delft|{Strawberry -> 51...|Strawberry|          51|             0.02|         142|\n",
      "|[{Utrecht, The Ha...|ca5b2fa758194c7da...|{The Hague, Delft...|The Hague|    Delft|{Strawberry -> 51...|     Apple|          61|             0.22|         136|\n",
      "|[{Utrecht, The Ha...|ca5b2fa758194c7da...|{The Hague, Delft...|The Hague|    Delft|{Strawberry -> 51...|    Orange|          79|             0.58|         140|\n",
      "|[{Utrecht, The Ha...|ca5b2fa758194c7da...|{Delft, The Hague...|    Delft|The Hague|{Strawberry -> 94...|Strawberry|          94|             0.88|         246|\n",
      "|[{Utrecht, The Ha...|ca5b2fa758194c7da...|{Delft, The Hague...|    Delft|The Hague|{Strawberry -> 94...|      Pear|          76|             0.52|         241|\n",
      "|[{Utrecht, The Ha...|ca5b2fa758194c7da...|{Delft, The Hague...|    Delft|The Hague|{Strawberry -> 94...|  Mandarin|          82|             0.64|         245|\n",
      "|[{Utrecht, The Ha...|ca5b2fa758194c7da...|{Delft, The Hague...|    Delft|The Hague|{Strawberry -> 94...|    Orange|          95|              0.9|         244|\n",
      "|[{Eindhoven, Delf...|0de74fb5d653403f8...|{Eindhoven, Delft...|Eindhoven|    Delft|{Banana -> 78, Ma...|    Banana|          78|             0.56|         314|\n",
      "|[{Eindhoven, Delf...|0de74fb5d653403f8...|{Eindhoven, Delft...|Eindhoven|    Delft|{Banana -> 78, Ma...|  Mandarin|          53|             0.06|         317|\n",
      "|[{Eindhoven, Delf...|0de74fb5d653403f8...|{Eindhoven, Delft...|Eindhoven|    Delft|{Banana -> 78, Ma...|      Kiwi|          77|             0.54|         315|\n",
      "|[{Eindhoven, Delf...|0de74fb5d653403f8...|{Eindhoven, Delft...|Eindhoven|    Delft|{Banana -> 78, Ma...|Strawberry|          63|             0.26|         318|\n",
      "|[{Eindhoven, Delf...|0de74fb5d653403f8...|{Delft, Rotterdam...|    Delft|Rotterdam|{Kiwi -> 74, Appl...|      Kiwi|          74|             0.48|         235|\n",
      "|[{Eindhoven, Delf...|0de74fb5d653403f8...|{Delft, Rotterdam...|    Delft|Rotterdam|{Kiwi -> 74, Appl...|     Apple|          71|             0.42|         232|\n",
      "|[{Eindhoven, Delf...|0de74fb5d653403f8...|{Delft, Rotterdam...|    Delft|Rotterdam|{Kiwi -> 74, Appl...|    Orange|          73|             0.46|         236|\n",
      "|[{Eindhoven, Delf...|0de74fb5d653403f8...|{Delft, Rotterdam...|    Delft|Rotterdam|{Kiwi -> 74, Appl...|      Pear|          93|             0.86|         233|\n",
      "|[{Eindhoven, Delf...|0de74fb5d653403f8...|{Rotterdam, Delft...|Rotterdam|    Delft|{Banana -> 53, Ma...|    Banana|          53|             0.06|          82|\n",
      "|[{Eindhoven, Delf...|0de74fb5d653403f8...|{Rotterdam, Delft...|Rotterdam|    Delft|{Banana -> 53, Ma...|     Mango|          63|             0.26|          87|\n",
      "+--------------------+--------------------+--------------------+---------+---------+--------------------+----------+------------+-----------------+------------+\n",
      "only showing top 20 rows\n",
      "\n"
     ]
    }
   ],
   "source": [
    "from pyspark.sql.functions import explode, map_keys, map_values, col, collect_list, struct\n",
    "from pyspark.ml.linalg import Vectors, VectorUDT\n",
    "\n",
    "\n",
    "# Step 1: Explode the merch column into multiple rows\n",
    "df = planned_routes_df.select(\"*\", explode(planned_routes_df.route).alias(\"individual_route\"))\n",
    "\n",
    "# Now individual_route is a column of struct type, so you can access its fields like this:\n",
    "df = df.select(\"*\", \n",
    "               df.individual_route.from_city.alias(\"from_city\"), \n",
    "               df.individual_route.to_city.alias(\"to_city\"),\n",
    "               df.individual_route.merch.alias(\"merch\"))\n",
    "df = df.select(\"*\", explode(df.merch).alias(\"merch_name\", \"merch_weight\"))\n",
    "\n",
    "df = df.withColumn(\"normalized_weight\", (df.merch_weight - merch_item_min) / (merch_item_max - merch_item_min))\n",
    "df = df.withColumn(\"vector_index\", get_vector_index(col(\"from_city\"), col(\"to_city\"), col(\"merch_name\")))\n",
    "\n",
    "# # Now each row of the DataFrame represents one entry of the vector for a route\n",
    "# # If you want to re-aggregate the data into one row per original route, you can group by uuid:\n",
    "#df = df.groupBy(\"uuid\").agg(collect_list(struct(\"vector_index\", \"normalized_weight\")).alias(\"vector_elements\"))\n",
    "#df = df.withColumn(\"vector\", col(\"vector_elements\").apply(lambda x: Vectors.sparse(vector_size, [e.vector_index for e in x], [e.normalized_weight for e in x])))\n",
    "# # And finally convert the vector elements to a sparse vector\n",
    "#df = df.withColumn(\"vector\", Vectors.sparse(vector_size, df.vector_elements))\n",
    "df.show()\n",
    "\n",
    "# Step 2: Normalize the merch_weight and map to the vector index\n",
    "# df = df.withColumn(\"normalized_weight\", (df.merch_weight - merch_item_min) / (merch_item_max - merch_item_min))\n",
    "# df = df.withColumn(\"vector_index\", vector_map[(df.from_city, df.to_city, df.merch_name)])\n",
    "\n",
    "# # Step 3: Re-aggregate the data (optional)\n",
    "# df = df.groupBy(\"uuid\").agg(collect_list(struct(\"vector_index\", \"normalized_weight\")).alias(\"vector_elements\"))\n",
    "\n",
    "# # Convert the vector elements to a sparse vector\n",
    "# df = df.withColumn(\"vector\", Vectors.sparse(vector_size, df.vector_elements))\n"
   ]
  }
 ],
 "metadata": {
  "kernelspec": {
   "display_name": "Python 3 (ipykernel)",
   "language": "python",
   "name": "python3"
  },
  "language_info": {
   "codemirror_mode": {
    "name": "ipython",
    "version": 3
   },
   "file_extension": ".py",
   "mimetype": "text/x-python",
   "name": "python",
   "nbconvert_exporter": "python",
   "pygments_lexer": "ipython3",
   "version": "3.11.2"
  }
 },
 "nbformat": 4,
 "nbformat_minor": 5
}
